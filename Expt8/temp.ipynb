{
 "cells": [
  {
   "cell_type": "code",
   "execution_count": 5,
   "metadata": {},
   "outputs": [
    {
     "ename": "ModuleNotFoundError",
     "evalue": "No module named 'pgmpy.preprocessing'",
     "output_type": "error",
     "traceback": [
      "\u001b[0;31m---------------------------------------------------------------------------\u001b[0m",
      "\u001b[0;31mModuleNotFoundError\u001b[0m                       Traceback (most recent call last)",
      "Cell \u001b[0;32mIn[5], line 3\u001b[0m\n\u001b[1;32m      1\u001b[0m \u001b[38;5;28;01mfrom\u001b[39;00m \u001b[38;5;21;01mpgmpy\u001b[39;00m\u001b[38;5;21;01m.\u001b[39;00m\u001b[38;5;21;01mmodels\u001b[39;00m \u001b[38;5;28;01mimport\u001b[39;00m BayesianModel\n\u001b[1;32m      2\u001b[0m \u001b[38;5;28;01mfrom\u001b[39;00m \u001b[38;5;21;01mpgmpy\u001b[39;00m\u001b[38;5;21;01m.\u001b[39;00m\u001b[38;5;21;01mestimators\u001b[39;00m \u001b[38;5;28;01mimport\u001b[39;00m ParameterEstimator, BayesianEstimator\n\u001b[0;32m----> 3\u001b[0m \u001b[38;5;28;01mfrom\u001b[39;00m \u001b[38;5;21;01mpgmpy\u001b[39;00m\u001b[38;5;21;01m.\u001b[39;00m\u001b[38;5;21;01mpreprocessing\u001b[39;00m \u001b[38;5;28;01mimport\u001b[39;00m Binarizer\n\u001b[1;32m      4\u001b[0m \u001b[38;5;28;01mimport\u001b[39;00m \u001b[38;5;21;01mpandas\u001b[39;00m \u001b[38;5;28;01mas\u001b[39;00m \u001b[38;5;21;01mpd\u001b[39;00m\n\u001b[1;32m      6\u001b[0m \u001b[38;5;66;03m# Read data from CSV file\u001b[39;00m\n",
      "\u001b[0;31mModuleNotFoundError\u001b[0m: No module named 'pgmpy.preprocessing'"
     ]
    }
   ],
   "source": [
    "from pgmpy.models import BayesianModel\n",
    "from pgmpy.estimators import ParameterEstimator, BayesianEstimator\n",
    "from pgmpy.preprocessing import Binarizer\n",
    "import pandas as pd\n",
    "\n",
    "# Read data from CSV file\n",
    "data = pd.read_csv('modified_dataset.csv')\n",
    "\n",
    "# Option 1: WindGustDir -> WindDir9am, WindGustDir -> WindDir3pm\n",
    "model1 = BayesianModel([('WindGustDir', 'WindDir9am'), ('WindGustDir', 'WindDir3pm')])\n",
    "\n",
    "# Option 2: (WindDir9am, WindDir3pm) -> WindGustDir\n",
    "model2 = BayesianModel([('WindDir9am', 'WindGustDir'), ('WindDir3pm', 'WindGustDir')])\n",
    "\n",
    "# Fit models to data\n",
    "model1.fit(data, estimator=BayesianEstimator, prior_type=\"BDeu\")\n",
    "model2.fit(data, estimator=BayesianEstimator, prior_type=\"BDeu\")\n",
    "\n",
    "# Print model parameters\n",
    "print(\"Model 1 (WindGustDir -> WindDir9am, WindGustDir -> WindDir3pm):\")\n",
    "print(model1.get_cpds())\n",
    "print(\"\\nModel 2 ((WindDir9am, WindDir3pm) -> WindGustDir):\")\n",
    "print(model2.get_cpds())\n",
    "\n",
    "# Perform model comparison\n",
    "print(\"\\nLog likelihood of Model 1:\", model1.score(data))\n",
    "print(\"Log likelihood of Model 2:\", model2.score(data))\n"
   ]
  }
 ],
 "metadata": {
  "kernelspec": {
   "display_name": "Python 3",
   "language": "python",
   "name": "python3"
  },
  "language_info": {
   "codemirror_mode": {
    "name": "ipython",
    "version": 3
   },
   "file_extension": ".py",
   "mimetype": "text/x-python",
   "name": "python",
   "nbconvert_exporter": "python",
   "pygments_lexer": "ipython3",
   "version": "3.11.9"
  }
 },
 "nbformat": 4,
 "nbformat_minor": 2
}
