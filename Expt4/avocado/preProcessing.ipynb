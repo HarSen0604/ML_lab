{
 "cells": [
  {
   "cell_type": "code",
   "execution_count": 1,
   "metadata": {},
   "outputs": [],
   "source": [
    "import numpy as np\n",
    "import pandas as pd\n",
    "from sklearn.impute import SimpleImputer\n",
    "from sklearn.preprocessing import LabelEncoder\n",
    "import matplotlib.pyplot as plt\n",
    "import seaborn as sns\n",
    "import os"
   ]
  },
  {
   "cell_type": "code",
   "execution_count": null,
   "metadata": {},
   "outputs": [],
   "source": [
    "def missingGraph(dataset, output_folder='missingGraph'):\n",
    "    categorical_features = dataset.select_dtypes(include=['object']).columns\n",
    "    print(\"Categorical Features:\")\n",
    "    print(categorical_features)\n",
    "\n",
    "    numerical_features = dataset.select_dtypes(include=['number']).columns\n",
    "    print(\"\\nNumerical Features:\")\n",
    "    print(numerical_features)\n",
    "\n",
    "    missing_percentage = (dataset.isnull().sum() / len(dataset)) * 100\n",
    "    categorical_missing = missing_percentage[categorical_features]\n",
    "    numerical_missing = missing_percentage[numerical_features]\n",
    "\n",
    "    fig, ax = plt.subplots(figsize=(10, 6))\n",
    "    ax.bar(categorical_missing.index, categorical_missing, color='blue', label='Categorical')\n",
    "    ax.bar(numerical_missing.index, numerical_missing, color='orange', label='Numerical')\n",
    "\n",
    "    ax.set_xlabel('Column Name')\n",
    "    ax.set_ylabel('Percentage of Missing Values')\n",
    "    ax.set_title('Percentage of Missing Values in Categorical and Numerical Features')\n",
    "    ax.legend()\n",
    "\n",
    "    plt.xticks(rotation=45, ha='right')\n",
    "    plt.tight_layout()\n",
    "\n",
    "    os.makedirs(output_folder, exist_ok=True)\n",
    "    output_path = os.path.join(output_folder, f'missingGraph.png')\n",
    "    plt.savefig(output_path)\n",
    "    plt.close()"
   ]
  },
  {
   "cell_type": "code",
   "execution_count": null,
   "metadata": {},
   "outputs": [],
   "source": [
    "def outlierBoxplots(dataset, output_folder = 'outlierBoxPlots'):\n",
    "    fig, ax = plt.subplots(figsize=(12, 8))\n",
    "    dataset.boxplot(column=list(dataset.select_dtypes(include=['number']).columns), ax=ax)\n",
    "    ax.set_title('Boxplots for Numerical Features (Identifying Outliers)')\n",
    "    plt.xticks(rotation=45, ha='right')\n",
    "\n",
    "    os.makedirs(output_folder, exist_ok=True)\n",
    "    output_path = os.path.join(output_folder, f'outlierBoxPlots.png')\n",
    "    plt.savefig(output_path)\n",
    "    plt.close()"
   ]
  },
  {
   "cell_type": "code",
   "execution_count": null,
   "metadata": {},
   "outputs": [],
   "source": [
    "def distributionPlots(dataset, output_folder='plots'):\n",
    "    numerical_features = dataset.select_dtypes(include=['number']).columns\n",
    "    for feature in numerical_features:\n",
    "        fig, ax = plt.subplots(figsize=(10, 6))\n",
    "        sns.histplot(data=dataset, x=feature, kde=True)\n",
    "        ax.set_title(f'Distribution Plot - {feature}')\n",
    "        plt.tight_layout()\n",
    "        \n",
    "        os.makedirs(output_folder, exist_ok=True)\n",
    "        output_path = os.path.join(output_folder, f'{feature}_distribution_plot.png')\n",
    "        plt.savefig(output_path)\n",
    "        plt.close()"
   ]
  },
  {
   "cell_type": "code",
   "execution_count": null,
   "metadata": {},
   "outputs": [],
   "source": [
    "def preprocess_data(X):\n",
    "    labelencoder_X1 = LabelEncoder()\n",
    "    X[:, -1] = labelencoder_X1.fit_transform(X[:, -1])\n",
    "\n",
    "    labelencoder_X2 = LabelEncoder()\n",
    "    X[:, -2] = labelencoder_X2.fit_transform(X[:, -2])\n",
    "\n",
    "    imputer = SimpleImputer(missing_values=np.nan, strategy='mean')\n",
    "    imputer.fit(X[:, 1:-2])\n",
    "    X[:, 1:-2] = imputer.transform(X[:, 1:-2])\n",
    "\n",
    "    imputer1 = SimpleImputer(missing_values=np.nan, strategy='most_frequent')\n",
    "    imputer1.fit(X[:, -2:-1])\n",
    "    X[:, -2:-1] = imputer1.transform(X[:, -2:-1])\n",
    "\n",
    "    return X"
   ]
  },
  {
   "cell_type": "code",
   "execution_count": null,
   "metadata": {},
   "outputs": [],
   "source": [
    "def main():\n",
    "    dataset = pd.read_csv('avocado.csv')\n",
    "\n",
    "    dataset['Date'] = pd.to_datetime(dataset['Date']).astype(int)\n",
    "    dataset = dataset.drop(columns=['year'])\n",
    "    dataset = dataset[['Date'] + list(dataset.columns[3:]) + ['AveragePrice']]\n",
    "\n",
    "    X = dataset.iloc[:, :-1].values\n",
    "    Y = dataset.iloc[:, -1].values\n",
    "\n",
    "    missingGraph(dataset)\n",
    "    outlierBoxplots(dataset)\n",
    "    distributionPlots(dataset)\n",
    "    X = preprocess_data(X)\n",
    "\n",
    "    pre_processed_dataset = pd.DataFrame(X, columns=dataset.columns[:-1])\n",
    "    pre_processed_dataset['AveragePrice'] = Y\n",
    "    pre_processed_dataset.to_csv('avocado_pre_processed.csv', index=False)"
   ]
  },
  {
   "cell_type": "code",
   "execution_count": null,
   "metadata": {},
   "outputs": [],
   "source": [
    "if __name__ == '__main__':\n",
    "    main()"
   ]
  }
 ],
 "metadata": {
  "kernelspec": {
   "display_name": "Python 3",
   "language": "python",
   "name": "python3"
  },
  "language_info": {
   "codemirror_mode": {
    "name": "ipython",
    "version": 3
   },
   "file_extension": ".py",
   "mimetype": "text/x-python",
   "name": "python",
   "nbconvert_exporter": "python",
   "pygments_lexer": "ipython3",
   "version": "3.11.7"
  }
 },
 "nbformat": 4,
 "nbformat_minor": 2
}
